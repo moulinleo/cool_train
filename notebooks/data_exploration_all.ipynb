{
 "cells": [
  {
   "cell_type": "code",
   "execution_count": null,
   "metadata": {},
   "outputs": [],
   "source": [
    "import pandas as pd\n",
    "import numpy as np\n",
    "import sys\n",
    "import matplotlib.pyplot as plt\n",
    "import seaborn as sns"
   ]
  },
  {
   "cell_type": "code",
   "execution_count": null,
   "metadata": {},
   "outputs": [],
   "source": [
    "sys.path.append('../')\n",
    "\n",
    "from cool_train.data_loading import correct_column_types\n",
    "\n",
    "# df = pd.read_csv('../dataset/data_cleaned.csv', index_col=[0])\n",
    "df = pd.read_csv('../dataset/train_181/train_181.csv',sep=';')\n",
    "\n",
    "df = correct_column_types(df)\n",
    "df"
   ]
  },
  {
   "cell_type": "code",
   "execution_count": null,
   "metadata": {},
   "outputs": [],
   "source": [
    "selected_cols = ['RS_E_InAirTemp_PC1', 'RS_E_InAirTemp_PC2',\n",
    "                 'RS_E_OilPress_PC1','RS_E_OilPress_PC2',\n",
    "                 'RS_E_RPM_PC1','RS_E_RPM_PC2',\n",
    "                 'RS_E_WatTemp_PC1','RS_E_WatTemp_PC2',\n",
    "                 'RS_T_OilTemp_PC1','RS_T_OilTemp_PC2']\n",
    "\n",
    "correlation_matrix  = df[selected_cols].corr()\n",
    "correlation_matrix"
   ]
  },
  {
   "cell_type": "code",
   "execution_count": null,
   "metadata": {},
   "outputs": [],
   "source": [
    "# Get the top 10 correlated variable pairs\n",
    "top_correlations = correlation_matrix.unstack().sort_values(ascending=False).drop_duplicates()[1:20]\n",
    "\n",
    "# Display the result\n",
    "print(\"Top 10 correlated variable pairs:\")\n",
    "print(top_correlations)"
   ]
  },
  {
   "cell_type": "markdown",
   "metadata": {},
   "source": [
    "# PairPlot\n",
    "Here we plot the correlations between all numerical variables\n",
    "- Observations:\n",
    "  - The OilPress variables have 2 modes (200kPa and 375kPa)\n",
    "  - The RPM variables have 1 mode at 800 RPM\n",
    "  - Water and Oil Temp are highly correlated"
   ]
  },
  {
   "cell_type": "code",
   "execution_count": null,
   "metadata": {},
   "outputs": [],
   "source": [
    "# Create a pair plot\n",
    "\n",
    "# Subsample data\n",
    "df_sampled = df.sample(frac=0.1, random_state=1)\n",
    "\n",
    "sns.set(style=\"whitegrid\")\n",
    "sns.pairplot(df_sampled[selected_cols], height=3, aspect=1,corner=True)\n",
    "plt.show()"
   ]
  },
  {
   "cell_type": "code",
   "execution_count": null,
   "metadata": {},
   "outputs": [],
   "source": []
  }
 ],
 "metadata": {
  "kernelspec": {
   "display_name": "base",
   "language": "python",
   "name": "python3"
  },
  "language_info": {
   "codemirror_mode": {
    "name": "ipython",
    "version": 3
   },
   "file_extension": ".py",
   "mimetype": "text/x-python",
   "name": "python",
   "nbconvert_exporter": "python",
   "pygments_lexer": "ipython3",
   "version": "3.10.9"
  }
 },
 "nbformat": 4,
 "nbformat_minor": 2
}
