{
 "cells": [
  {
   "cell_type": "code",
   "execution_count": null,
   "metadata": {},
   "outputs": [],
   "source": [
    "import pandas as pd\n",
    "import numpy as np\n",
    "import sys\n",
    "import matplotlib.pyplot as plt\n",
    "import seaborn as sns\n",
    "import plotly.express as px"
   ]
  },
  {
   "cell_type": "code",
   "execution_count": null,
   "metadata": {},
   "outputs": [],
   "source": [
    "sys.path.append('../')\n",
    "\n",
    "from cool_train.data_loading import correct_column_types\n",
    "\n",
    "# df = pd.read_csv('../dataset/data_cleaned.csv', index_col=[0])\n",
    "df = pd.read_csv('../dataset/train_181/train_181.csv',sep=';')\n",
    "\n",
    "df = correct_column_types(df)\n",
    "df"
   ]
  },
  {
   "cell_type": "markdown",
   "metadata": {},
   "source": [
    "# First look at the Data in a Scatter Plot"
   ]
  },
  {
   "cell_type": "code",
   "execution_count": null,
   "metadata": {},
   "outputs": [],
   "source": [
    "col1 = 'RS_T_OilTemp_PC2'\n",
    "col2 = 'RS_E_WatTemp_PC2'"
   ]
  },
  {
   "cell_type": "code",
   "execution_count": null,
   "metadata": {},
   "outputs": [],
   "source": [
    "# Scatter plot using Plotly Express\n",
    "\n",
    "\n",
    "# Subsample data\n",
    "df_sampled = df.sample(frac=0.3, random_state=1)\n",
    "\n",
    "fig = px.scatter(df_sampled, x=col1, y=col2, hover_data=[col1, col2, 'timestamps_UTC'],\n",
    "                 labels={'timestamps_local': 'Timestamp '},\n",
    "                 title=f'Scatter Plot of {col1} vs {col2}')\n",
    "\n",
    "fig.update_layout(width=800, height=800)  # Adjust figure size\n",
    "fig.show()\n"
   ]
  },
  {
   "cell_type": "code",
   "execution_count": null,
   "metadata": {},
   "outputs": [],
   "source": []
  }
 ],
 "metadata": {
  "kernelspec": {
   "display_name": "base",
   "language": "python",
   "name": "python3"
  },
  "language_info": {
   "codemirror_mode": {
    "name": "ipython",
    "version": 3
   },
   "file_extension": ".py",
   "mimetype": "text/x-python",
   "name": "python",
   "nbconvert_exporter": "python",
   "pygments_lexer": "ipython3",
   "version": "3.10.9"
  }
 },
 "nbformat": 4,
 "nbformat_minor": 2
}
