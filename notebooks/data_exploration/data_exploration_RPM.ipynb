{
 "cells": [
  {
   "cell_type": "code",
   "execution_count": null,
   "metadata": {},
   "outputs": [],
   "source": [
    "import pandas as pd\n",
    "import numpy as np\n",
    "import sys\n",
    "import matplotlib.pyplot as plt\n",
    "import seaborn as sns"
   ]
  },
  {
   "cell_type": "code",
   "execution_count": null,
   "metadata": {},
   "outputs": [],
   "source": [
    "sys.path.append('../')\n",
    "\n",
    "from cool_train.data_loading import correct_column_types\n",
    "\n",
    "# df = pd.read_csv('../dataset/data_cleaned.csv', index_col=[0])\n",
    "df = pd.read_csv('../dataset/train_181/train_181.csv',sep=';')\n",
    "\n",
    "df = correct_column_types(df)\n",
    "df\n"
   ]
  },
  {
   "cell_type": "code",
   "execution_count": null,
   "metadata": {},
   "outputs": [],
   "source": [
    "selected_cols = ['RS_E_InAirTemp_PC1', 'RS_E_InAirTemp_PC2',\n",
    "                 'RS_E_OilPress_PC1','RS_E_OilPress_PC2',\n",
    "                 'RS_E_RPM_PC1','RS_E_RPM_PC2',\n",
    "                 'RS_E_WatTemp_PC1','RS_E_WatTemp_PC2',\n",
    "                 'RS_T_OilTemp_PC1','RS_T_OilTemp_PC2']\n",
    "\n",
    "correlation_matrix  = df[selected_cols].corr()\n",
    "correlation_matrix"
   ]
  },
  {
   "cell_type": "code",
   "execution_count": null,
   "metadata": {},
   "outputs": [],
   "source": [
    "# Get the top 10 correlated variable pairs\n",
    "top_correlations = correlation_matrix.unstack().sort_values(ascending=False).drop_duplicates()[1:20]\n",
    "\n",
    "# Display the result\n",
    "print(\"Top 10 correlated variable pairs:\")\n",
    "print(top_correlations)"
   ]
  },
  {
   "cell_type": "code",
   "execution_count": null,
   "metadata": {},
   "outputs": [],
   "source": [
    "# Create a beautiful histogram for RS_E_RPM_PC2 and RS_E_RPM_PC1\n",
    "plt.figure(figsize=(10, 6))\n",
    "sns.histplot(data=df, x='RS_E_RPM_PC2', bins=50, kde=True, color='skyblue', label='RS_E_RPM_PC2')\n",
    "sns.histplot(data=df, x='RS_E_RPM_PC1', bins=50, kde=True, color='salmon', label='RS_E_RPM_PC1')\n",
    "\n",
    "plt.title('Histogram of RS_E_RPM_PC2 and RS_E_RPM_PC1')\n",
    "plt.xlabel('Value')\n",
    "plt.ylabel('Frequency')\n",
    "plt.grid(True)\n",
    "plt.legend()\n",
    "plt.show()"
   ]
  },
  {
   "cell_type": "code",
   "execution_count": null,
   "metadata": {},
   "outputs": [],
   "source": [
    "import matplotlib.pyplot as plt\n",
    "import pandas as pd\n",
    "import seaborn as sns\n",
    "\n",
    "col1 = 'RS_E_RPM_PC2'\n",
    "col2 = 'RS_E_RPM_PC1'\n",
    "\n",
    "# Scatter plot\n",
    "plt.figure(figsize=(8, 6))  # Adjust the figure size as needed\n",
    "\n",
    "plt.scatter(df[col1], df[col2], color='blue', marker='o', label='Data Points')\n",
    "\n",
    "plt.title(f'Scatter Plot of {col1} vs {col2}')\n",
    "plt.xlabel(col1)\n",
    "plt.ylabel(col2)\n",
    "plt.legend()  # Display legend if you have multiple datasets\n",
    "\n",
    "plt.grid(True)\n",
    "plt.show()\n"
   ]
  },
  {
   "cell_type": "markdown",
   "metadata": {},
   "source": [
    "# Kernel Density Plot\n",
    "This takes quite some time"
   ]
  },
  {
   "cell_type": "code",
   "execution_count": null,
   "metadata": {},
   "outputs": [],
   "source": [
    "import matplotlib.pyplot as plt\n",
    "import pandas as pd\n",
    "import seaborn as sns\n",
    "\n",
    "# Scatter plot\n",
    "plt.figure(figsize=(12, 6))  # Adjust the figure size as needed\n",
    "\n",
    "# Scatter plot\n",
    "plt.subplot(1, 2, 1)\n",
    "plt.scatter(df[col1], df[col2], color='blue', marker='o', label='Data Points')\n",
    "plt.title(f'Scatter Plot of {col1} vs {col2}')\n",
    "plt.xlabel(col1)\n",
    "plt.ylabel(col2)\n",
    "plt.grid(True)\n",
    "plt.legend()\n",
    "\n",
    "# 2D Kernel Density Estimation\n",
    "plt.subplot(1, 2, 2)\n",
    "sns.kdeplot(x=df[col1], y=df[col2], cmap='viridis', fill=True)\n",
    "plt.title('2D Kernel Density Estimation')\n",
    "plt.xlabel(col1)\n",
    "plt.ylabel(col2)\n",
    "\n",
    "plt.grid(True)\n",
    "plt.tight_layout()  # Adjust layout for better presentation\n",
    "plt.show()\n"
   ]
  },
  {
   "cell_type": "markdown",
   "metadata": {},
   "source": [
    "# Plotly"
   ]
  },
  {
   "cell_type": "code",
   "execution_count": null,
   "metadata": {},
   "outputs": [],
   "source": [
    "import plotly.express as px\n",
    "import pandas as pd\n",
    "\n",
    "# Scatter plot using Plotly Express\n",
    "fig = px.scatter(df, x=col1, y=col2, hover_data=[col1, col2, 'timestamps_UTC'],\n",
    "                 labels={'timestamps_local': 'Timestamp '},\n",
    "                 title=f'Scatter Plot of {col1} vs {col2}')\n",
    "\n",
    "fig.update_layout(width=800, height=800)  # Adjust figure size\n",
    "fig.show()"
   ]
  },
  {
   "cell_type": "markdown",
   "metadata": {},
   "source": [
    "## Basic Clutering of RPM phases\n",
    "- From the scatter plot of RMP1 vs RMP2, I saw different patterns:\n",
    "  - Highest correlation\n",
    "  - Vitesse nominale: 800 RPM (voir 2 histograms)\n",
    "  - Bcp de valeurs proches de 0 pour l'un ou l'autre\n",
    "  - Phases de demarrage (transition) ou RPMs <650\n",
    "  - Phase de marche ou RPMs > 650\n",
    "  - 2 points inhabituels\n",
    "  - A tester : le meme graphe pour un autre train\n",
    "\n",
    "\n",
    "- The goal of this subpart is to plot the different phases on the time series \n",
    "- We expect:\n",
    "    - phase_demarrage to be in the start of a run\n",
    "    - phase_marche to be in the middle of a run\n",
    "    - phase_zero to be ?"
   ]
  },
  {
   "cell_type": "code",
   "execution_count": null,
   "metadata": {},
   "outputs": [],
   "source": [
    "th_marche = 750\n",
    "\n",
    "# Define clustering conditions\n",
    "condition2 = (df[col2] >= th_marche) & (df[col1] >= th_marche)\n",
    "condition1 = (df[col2] < th_marche) & (df[col1] < th_marche)\n",
    "condition3 = (df[col2] == 0) | (df[col1] == 0)\n",
    "\n",
    "\n",
    "# Create a new column 'cluster' based on conditions\n",
    "df['cluster'] = 'Other'\n",
    "df.loc[condition3, 'cluster'] = 'phase_zero'\n",
    "df.loc[condition1, 'cluster'] = 'phase_demarrage'\n",
    "df.loc[condition2, 'cluster'] = 'phase_marche'\n"
   ]
  },
  {
   "cell_type": "code",
   "execution_count": null,
   "metadata": {},
   "outputs": [],
   "source": [
    "df['cluster'].value_counts()"
   ]
  },
  {
   "cell_type": "markdown",
   "metadata": {},
   "source": [
    "Show it in a scatter plot"
   ]
  },
  {
   "cell_type": "code",
   "execution_count": null,
   "metadata": {},
   "outputs": [],
   "source": [
    "# Show the scatter plot with colored clusters\n",
    "plt.scatter(df.loc[condition1, 'RS_E_RPM_PC2'], df.loc[condition1, 'RS_E_RPM_PC1'], color='orange', marker='o', label='phase_demarrage', s=5)\n",
    "plt.scatter(df.loc[condition2, 'RS_E_RPM_PC2'], df.loc[condition2, 'RS_E_RPM_PC1'], color='green', marker='o', label='phase_marche', s=5)\n",
    "plt.scatter(df.loc[condition3, 'RS_E_RPM_PC2'], df.loc[condition3, 'RS_E_RPM_PC1'], color='red', marker='o', label='phase_zero', s=5)\n",
    "plt.scatter(df[df['cluster']=='Other']['RS_E_RPM_PC2'], df[df['cluster']=='Other']['RS_E_RPM_PC1'], color='black', marker='o', label='Other', s=5)\n",
    "\n",
    "\n",
    "\n",
    "plt.title('Scatter Plot with Phases')\n",
    "plt.xlabel(col1)\n",
    "plt.ylabel(col2)\n",
    "plt.legend()\n",
    "plt.grid(True)\n",
    "plt.show()"
   ]
  },
  {
   "cell_type": "markdown",
   "metadata": {},
   "source": [
    "## Show the timeseries"
   ]
  },
  {
   "cell_type": "code",
   "execution_count": null,
   "metadata": {},
   "outputs": [],
   "source": [
    "df = df.sort_values(by='timestamps_UTC')"
   ]
  },
  {
   "cell_type": "code",
   "execution_count": null,
   "metadata": {},
   "outputs": [],
   "source": [
    "import plotly.graph_objects as go\n",
    "import datetime\n",
    "\n",
    "# Variable to plot\n",
    "var = 'RS_E_RPM_PC2'\n",
    "\n",
    "# Filter the DataFrame for the first two months\n",
    "start_date = datetime.datetime(2023,2,1)\n",
    "end_date = datetime.datetime(2023,3,15)\n",
    "\n",
    "# Filter rows between the specified dates\n",
    "df_to_plot = df[df['timestamps_UTC'].between(start_date, end_date)]\n",
    "\n",
    "# Create a time series plot with color-coded points based on the 'cluster' column\n",
    "fig = go.Figure()\n",
    "\n",
    "for cluster, color in zip(['phase_demarrage', 'Other', 'phase_marche', 'phase_zero'], ['orange', 'black','green','red']):\n",
    "    cluster_data = df_to_plot[df_to_plot['cluster'] == cluster]\n",
    "    fig.add_trace(go.Scatter(x=cluster_data['timestamps_UTC'], y=cluster_data[var],\n",
    "                             mode='markers', marker=dict(color=color), name=cluster))\n",
    "\n",
    "fig.update_layout(title='Time Series Plot with Cluster Colors (Subset)',\n",
    "                  xaxis_title='Date', yaxis_title=var)\n",
    "\n",
    "fig.show()"
   ]
  },
  {
   "cell_type": "markdown",
   "metadata": {},
   "source": [
    "## KDE of cluster vs Hour of the Day\n",
    "- Is the phase related to the hour of the day? We expect the transition phases to be in the morning or the evening, and the runtime/normal phase to be during the full day"
   ]
  },
  {
   "cell_type": "code",
   "execution_count": null,
   "metadata": {},
   "outputs": [],
   "source": [
    "df['hour_day'] = df['timestamps_UTC'].apply(lambda x:x.hour)"
   ]
  },
  {
   "cell_type": "code",
   "execution_count": null,
   "metadata": {},
   "outputs": [],
   "source": [
    "# Variable to plot\n",
    "var = 'RS_E_RPM_PC2'\n",
    "\n",
    "# Filter the DataFrame for the first two months\n",
    "start_date = datetime.datetime(2023,2,1)\n",
    "end_date = datetime.datetime(2023,3,15)\n",
    "\n",
    "# Filter rows between the specified dates\n",
    "df_to_plot = df[df['timestamps_UTC'].between(start_date, end_date)]\n",
    "\n",
    "# Create density plots for each cluster\n",
    "plt.figure(figsize=(10, 6))\n",
    "for cluster, color in zip(['phase_demarrage', 'Other', 'phase_marche', 'phase_zero'], ['orange', 'black','green','red']):\n",
    "    cluster_data = df_to_plot[df_to_plot['cluster'] == cluster]\n",
    "    #sns.kdeplot(data=cluster_data, x='hour_day', label=f'Cluster {cluster}', color=color, fill=True)\n",
    "    sns.histplot(data=cluster_data, x='hour_day', bins=24, kde=True, stat='count', label=f'Cluster {cluster}', color=color)\n",
    "\n",
    "plt.title('Density Function for Each Cluster (Hour of the Day)')\n",
    "plt.xlabel('Hour of the Day')\n",
    "plt.ylabel('Density')\n",
    "plt.legend()\n",
    "plt.show()"
   ]
  },
  {
   "cell_type": "markdown",
   "metadata": {},
   "source": [
    "-> No clear link with the hour of the day"
   ]
  },
  {
   "cell_type": "code",
   "execution_count": null,
   "metadata": {},
   "outputs": [],
   "source": []
  },
  {
   "cell_type": "code",
   "execution_count": null,
   "metadata": {},
   "outputs": [],
   "source": []
  },
  {
   "cell_type": "code",
   "execution_count": null,
   "metadata": {},
   "outputs": [],
   "source": []
  },
  {
   "cell_type": "code",
   "execution_count": null,
   "metadata": {},
   "outputs": [],
   "source": []
  }
 ],
 "metadata": {
  "kernelspec": {
   "display_name": "base",
   "language": "python",
   "name": "python3"
  },
  "language_info": {
   "codemirror_mode": {
    "name": "ipython",
    "version": 3
   },
   "file_extension": ".py",
   "mimetype": "text/x-python",
   "name": "python",
   "nbconvert_exporter": "python",
   "pygments_lexer": "ipython3",
   "version": "3.10.9"
  }
 },
 "nbformat": 4,
 "nbformat_minor": 2
}
