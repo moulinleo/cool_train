{
 "cells": [
  {
   "cell_type": "markdown",
   "metadata": {},
   "source": [
    "# Feature Engineering\n",
    "This notebook is to test adding new interesting features to the dataset\n",
    "- Time-related features\n",
    "- Distance-based features"
   ]
  },
  {
   "cell_type": "code",
   "execution_count": null,
   "metadata": {},
   "outputs": [],
   "source": [
    "import pandas as pd\n",
    "import sys\n",
    "\n",
    "sys.path.append('../')\n",
    "from cool_train.feature_engineering import add_time_features"
   ]
  },
  {
   "cell_type": "code",
   "execution_count": null,
   "metadata": {},
   "outputs": [],
   "source": [
    "%load_ext autoreload\n",
    "%autoreload 2"
   ]
  },
  {
   "cell_type": "code",
   "execution_count": null,
   "metadata": {},
   "outputs": [],
   "source": [
    "# Data Aready cleaned \n",
    "df_clean = pd.read_csv('../dataset/train_181/df_filter2.csv', index_col=[0])\n",
    "df_clean"
   ]
  },
  {
   "cell_type": "markdown",
   "metadata": {},
   "source": [
    "# Time related features"
   ]
  },
  {
   "cell_type": "code",
   "execution_count": null,
   "metadata": {},
   "outputs": [],
   "source": [
    "df_time = add_time_features(df_clean)\n",
    "df_time"
   ]
  },
  {
   "cell_type": "code",
   "execution_count": null,
   "metadata": {},
   "outputs": [],
   "source": [
    "import matplotlib.pyplot as plt\n",
    "import seaborn as sns\n",
    "\n",
    "time_features = ['month','day','hour','minute','second','dayOfWeek',\n",
    "                 'isWeekend','quarter','timeOfDay']\n",
    "\n",
    "# Define bin sizes for each time-related feature\n",
    "bin_sizes = {'month': 12, 'day': 31, 'hour': 24, 'minute': 60, 'second': 60,\n",
    "             'dayOfWeek': 7, 'quarter': 4,'timeOfDay': 4,'isWeekend':2}\n",
    "\n",
    "# Plot histograms for each time-related feature \n",
    "plt.figure(figsize=(15, 10))\n",
    "for i, feature in enumerate(time_features, 1):\n",
    "    plt.subplot(3, 4, i)\n",
    "    if feature in ['isWeekend', 'quarter', 'timeOfDay','dayOfWeek','month']:\n",
    "        # Use a bar plot for categorical variables\n",
    "        sns.countplot(x=feature, data=df_time)\n",
    "    else:\n",
    "        # Use a histogram for numerical variables\n",
    "        sns.histplot(df_time[feature], bins=bin_sizes[feature], kde=True)\n",
    "    \n",
    "    plt.title(f'Distribution of {feature}')\n",
    "\n",
    "plt.tight_layout()\n",
    "plt.show()"
   ]
  },
  {
   "cell_type": "markdown",
   "metadata": {},
   "source": [
    "# GPS-related features\n",
    "Lets now compute all the potential features we can think of using the GPS coordinates"
   ]
  },
  {
   "cell_type": "code",
   "execution_count": null,
   "metadata": {},
   "outputs": [],
   "source": [
    "from cool_train.feature_engineering import compute_spatial_features"
   ]
  },
  {
   "cell_type": "code",
   "execution_count": null,
   "metadata": {},
   "outputs": [],
   "source": [
    "df_space_time = compute_spatial_features(df_time)\n",
    "df_space_time"
   ]
  },
  {
   "cell_type": "code",
   "execution_count": null,
   "metadata": {},
   "outputs": [],
   "source": [
    "import pandas as pd\n",
    "import plotly.express as px\n",
    "\n",
    "\n",
    "# Select range\n",
    "start_date = pd.Timestamp('2023-01-01',tz='Europe/Brussels')\n",
    "end_date = pd.Timestamp('2023-03-01',tz='Europe/Brussels')\n",
    "\n",
    "# Define a threshold for acceptable speed values\n",
    "speed_threshold = 0.1\n",
    "\n",
    "# Filter out aberrant speed values\n",
    "filtered_df = df_space_time[df_space_time['Speed'] <= speed_threshold]\n",
    "\n",
    "# Apply rolling window for smoothing\\\n",
    "window_size = '10T'\n",
    "filtered_df = filtered_df.set_index('timestamps_UTC', drop=False)\n",
    "smoothed_df = filtered_df.rolling(window_size).mean()\n",
    "\n",
    "\n",
    "# Filter rows between the specified dates\n",
    "df_to_plot = smoothed_df[(smoothed_df.index >= start_date) & (smoothed_df.index <= end_date)]\n",
    "\n",
    "\n",
    "# Plotly line plot for speed over time\n",
    "fig_speed = px.line(df_to_plot, x=df_to_plot.index, y='Speed', title='Speed Over Time')\n",
    "fig_speed.update_xaxes(title_text='Time')\n",
    "fig_speed.update_yaxes(title_text='Speed (km/h)')\n",
    "\n",
    "# Plotly line plot for heading over time\n",
    "fig_heading = px.line(df_to_plot, x=df_to_plot.index, y='Heading', title='Heading Over Time')\n",
    "fig_heading.update_xaxes(title_text='Time')\n",
    "fig_heading.update_yaxes(title_text='Heading (degrees)')\n",
    "\n",
    "# Show the plots\n",
    "fig_speed.show()\n",
    "fig_heading.show()"
   ]
  },
  {
   "cell_type": "code",
   "execution_count": null,
   "metadata": {},
   "outputs": [],
   "source": []
  }
 ],
 "metadata": {
  "kernelspec": {
   "display_name": "base",
   "language": "python",
   "name": "python3"
  },
  "language_info": {
   "codemirror_mode": {
    "name": "ipython",
    "version": 3
   },
   "file_extension": ".py",
   "mimetype": "text/x-python",
   "name": "python",
   "nbconvert_exporter": "python",
   "pygments_lexer": "ipython3",
   "version": "3.10.9"
  }
 },
 "nbformat": 4,
 "nbformat_minor": 2
}
